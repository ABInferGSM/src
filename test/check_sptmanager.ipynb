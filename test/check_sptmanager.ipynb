{
 "cells": [
  {
   "cell_type": "code",
   "execution_count": 1,
   "metadata": {},
   "outputs": [],
   "source": [
    "import torch\n",
    "import numpy as np\n",
    "device = torch.device(\"cpu\")"
   ]
  },
  {
   "cell_type": "code",
   "execution_count": 2,
   "metadata": {},
   "outputs": [],
   "source": [
    "import matplotlib.pyplot as plt\n",
    "import seaborn as sns\n",
    "sns.set()\n",
    "sns.set_style('white')\n",
    "#sns.set_style('whitegrid')\n",
    "import matplotlib\n",
    "plt.rcParams[\"axes.grid\"] = True\n",
    "plt.rc('font', family='serif')\n",
    "#plt.rc('font', weight='bold')\n",
    "\n",
    "current_palette = sns.color_palette(sns.hls_palette(10+1, l=.4, s=1.0))\n",
    "sns.palplot(current_palette)\n",
    "current_palette = np.asarray(current_palette)"
   ]
  },
  {
   "cell_type": "code",
   "execution_count": 8,
   "metadata": {},
   "outputs": [],
   "source": [
    "import torch\n",
    "import numpy as np\n",
    "import math\n",
    "from itertools import combinations\n",
    "\n",
    "class spt_manager(object):\n",
    "    def __init__(self,total_spt,num_Q):\n",
    "        self.total_spt = total_spt\n",
    "        self.num_Q = num_Q\n",
    "        self.covariance_term = False\n",
    "        \n",
    "\n",
    "    def k_sm(self,ith_weight,ith_mu,ith_std, tau_collection):            \n",
    "        exp_term_in = ((tau_collection*ith_std)**2).sum(axis =1,keepdims = True)\n",
    "        exp_term = np.exp( -2*(math.pi**2)*exp_term_in)\n",
    "        cos_term_in = (tau_collection*ith_mu).sum(axis =1,keepdims=True)\n",
    "        cos_term = np.cos(2*math.pi*cos_term_in)\n",
    "        return ith_weight*(exp_term*cos_term)  \n",
    "\n",
    "    \n",
    "    \n",
    "    def set_tau_collection(self, X, istau = False):\n",
    "        if torch.is_tensor(X):\n",
    "            X = X.cpu().data.numpy()\n",
    "\n",
    "        if istau:\n",
    "            self.tau_collection = X            \n",
    "        else :\n",
    "            self.tau_collection = np.asarray([ith[0]-ith[1] for ith in combinations(X,2)])\n",
    "        #self.pairwise_tau_collection = combinations(self.tau_collection,2)\n",
    "                \n",
    "        ij_taus_sum,ij_taus_minus,i_taus, j_taus = [], [], [], []\n",
    "        for ith_tau,jth_tau in combinations(self.tau_collection,2):\n",
    "            ij_taus_sum.append( ith_tau + jth_tau )\n",
    "            ij_taus_minus.append( ith_tau - jth_tau )\n",
    "            i_taus.append( ith_tau )\n",
    "            j_taus.append( jth_tau )\n",
    "            \n",
    "        self.ij_taus_sum = np.asarray(ij_taus_sum)\n",
    "        self.ij_taus_minus = np.asarray(ij_taus_minus)\n",
    "        self.i_taus = np.asarray(i_taus)\n",
    "        self.j_taus = np.asarray(j_taus)            \n",
    "        return \n",
    "    \n",
    "\n",
    "\n",
    "    def g_tau(self, mu,std):\n",
    "        out = 1 + self.k_sm(ith_weight = 1.0, ith_mu = mu, ith_std = std, tau_collection = 2*self.tau_collection) \n",
    "        out += -2*(self.k_sm(ith_weight = 1.0, ith_mu = mu, ith_std = std, tau_collection = self.tau_collection))**2                \n",
    "        return out\n",
    "    \n",
    "    def sum_g_tau(self, mu,std):\n",
    "        return (self.g_tau(mu,std)).sum(axis = 0)\n",
    "        \n",
    "        \n",
    "    def h_taupair(self, mu,std):    \n",
    "        out = -self.k_sm(ith_weight = 1.0, ith_mu = mu, ith_std = std, tau_collection = self.i_taus)*self.k_sm(ith_weight = 1.0, ith_mu = mu, ith_std = std, tau_collection = self.j_taus) \n",
    "        out += 0.5*self.k_sm(ith_weight = 1.0, ith_mu = mu, ith_std = std, tau_collection = self.ij_taus_sum) \n",
    "        out += 0.5*self.k_sm(ith_weight = 1.0, ith_mu = mu, ith_std = std, tau_collection = self.ij_taus_minus)         \n",
    "        return out\n",
    "    \n",
    "    \n",
    "    def sum_h_taupair(self, mu,std):\n",
    "        return (self.h_taupair(mu,std)).sum(axis = 0)\n",
    "\n",
    "    \n",
    "    \n",
    "    def calc_sptratio(self, weight_param, mu_param, std_param, iscal_covariance_term):\n",
    "        nominator_list = []\n",
    "        for ith_weight,ith_mu,ith_std in zip(weight_param, mu_param, std_param):\n",
    "            # variance_term\n",
    "            variance_sum  = .5*self.sum_g_tau(ith_mu,ith_std)\n",
    "            # covariance_term\n",
    "            if iscal_covariance_term :\n",
    "                covariance_sum  = 2*self.sum_h_taupair(ith_mu,ith_std)\n",
    "            else :\n",
    "                covariance_sum  = 0\n",
    "                \n",
    "            print('variance_sum,covariance_sum')\n",
    "            print(variance_sum,covariance_sum)\n",
    "            print('ith_weight*np.sqrt(variance_sum + covariance_sum)')\n",
    "            print(ith_weight*np.sqrt(variance_sum + covariance_sum))\n",
    "            # nominator\n",
    "            nominator_list.append(   ith_weight*np.sqrt(variance_sum + covariance_sum) )\n",
    "        \n",
    "        \n",
    "        ratio = np.asarray(nominator_list)/( np.asarray(nominator_list).sum() + 1e-8)\n",
    "        \n",
    "        #print('ratio')\n",
    "        #print(ratio)\n",
    "        \n",
    "        \n",
    "        \n",
    "        \n",
    "        assigned_spt = np.asarray([ int(np.round(ipt)) + 1 for ipt in (self.total_spt-self.num_Q)*ratio]) \n",
    "        \n",
    "        return assigned_spt,ratio\n",
    "        \n",
    "            \n",
    "        "
   ]
  },
  {
   "cell_type": "code",
   "execution_count": null,
   "metadata": {},
   "outputs": [],
   "source": [
    "#X = np.random.randn(10,3)\n",
    "X = np.arange(0,10,0.05).reshape(-1,1)\n",
    "X"
   ]
  },
  {
   "cell_type": "code",
   "execution_count": 9,
   "metadata": {},
   "outputs": [],
   "source": [
    "#X = np.arange(0,100,0.5).reshape(-1,1)\n",
    "\n",
    "\n",
    "from itertools import combinations    \n",
    "#tau_collection = np.asarray([ith[0]-ith[1] for ith in combinations(X,2)])\n",
    "#pairwise_tau_collection = combinations(tau_collection,2)\n",
    "\n",
    "# ith_weight = [1.2]\n",
    "# ith_mu = np.array([10.,5.,1.])\n",
    "# ith_std = np.array([.5,.1,.05])\n",
    "\n",
    "# ith_weight = [100,0.5,10.,.5,5]\n",
    "# ith_mu = np.array([[10.,5.,1.],[.4,3.0,1.0],[.4,10.0,1.0]])\n",
    "# ith_std = np.array([[.5,.1,.05],[.05,.01,.01],[.1,.1,.1]])\n",
    "\n",
    "\n",
    "ith_weight = [10., 0.5 , 10., .5, 5]\n",
    "ith_mu = np.array([1,5,10,20,30]).reshape(-1,1)\n",
    "ith_std = np.array([.0899,.0444,0.0688,.0980,.0177]).reshape(-1,1)\n",
    "\n",
    "\n",
    "# ith_weight = [1.2]\n",
    "# ith_mu = np.array([1.2])\n",
    "# ith_std = np.array([.05])\n",
    "#out = k_sm(tau_collection,ith_weight,ith_mu,ith_std)"
   ]
  },
  {
   "cell_type": "code",
   "execution_count": 10,
   "metadata": {},
   "outputs": [],
   "source": [
    "SMspt_manager = spt_manager(total_spt = 500,num_Q = 5)"
   ]
  },
  {
   "cell_type": "code",
   "execution_count": 11,
   "metadata": {},
   "outputs": [
    {
     "data": {
      "text/plain": [
       "[192, 9, 192, 9, 96]"
      ]
     },
     "execution_count": 11,
     "metadata": {},
     "output_type": "execute_result"
    }
   ],
   "source": [
    "weightprop = (ith_weight/np.sum(ith_weight))*(SMspt_manager.total_spt)\n",
    "[int(ith) for ith in weightprop]\n"
   ]
  },
  {
   "cell_type": "code",
   "execution_count": 12,
   "metadata": {},
   "outputs": [],
   "source": [
    "SMspt_manager.set_tau_collection(X,istau=True)"
   ]
  },
  {
   "cell_type": "code",
   "execution_count": 13,
   "metadata": {},
   "outputs": [
    {
     "name": "stdout",
     "output_type": "stream",
     "text": [
      "variance_sum,covariance_sum\n",
      "[0.8509] [-0.11614271]\n",
      "ith_weight*np.sqrt(variance_sum + covariance_sum)\n",
      "[8.57179845]\n",
      "variance_sum,covariance_sum\n",
      "[0.39956654] [0.34594276]\n",
      "ith_weight*np.sqrt(variance_sum + covariance_sum)\n",
      "[0.4317144]\n",
      "variance_sum,covariance_sum\n",
      "[1.12045657] [-0.56251632]\n",
      "ith_weight*np.sqrt(variance_sum + covariance_sum)\n",
      "[7.4695398]\n",
      "variance_sum,covariance_sum\n",
      "[1.30927171] [-0.46559014]\n",
      "ith_weight*np.sqrt(variance_sum + covariance_sum)\n",
      "[0.4592607]\n",
      "variance_sum,covariance_sum\n",
      "[0.1326914] [0.11789195]\n",
      "ith_weight*np.sqrt(variance_sum + covariance_sum)\n",
      "[2.50291505]\n",
      "variance_sum,covariance_sum\n",
      "[0.8509] 0\n",
      "ith_weight*np.sqrt(variance_sum + covariance_sum)\n",
      "[9.22442409]\n",
      "variance_sum,covariance_sum\n",
      "[0.39956654] 0\n",
      "ith_weight*np.sqrt(variance_sum + covariance_sum)\n",
      "[0.31605638]\n",
      "variance_sum,covariance_sum\n",
      "[1.12045657] 0\n",
      "ith_weight*np.sqrt(variance_sum + covariance_sum)\n",
      "[10.58516212]\n",
      "variance_sum,covariance_sum\n",
      "[1.30927171] 0\n",
      "ith_weight*np.sqrt(variance_sum + covariance_sum)\n",
      "[0.57211706]\n",
      "variance_sum,covariance_sum\n",
      "[0.1326914] 0\n",
      "ith_weight*np.sqrt(variance_sum + covariance_sum)\n",
      "[1.82134156]\n"
     ]
    }
   ],
   "source": [
    "#SMspt_manager.j_taus\n",
    "assigned_spt_cov,ratio_cov = SMspt_manager.calc_sptratio(weight_param=ith_weight,mu_param=ith_mu,std_param=ith_std , cal_covariance_term = True)\n",
    "assigned_spt,ratio = SMspt_manager.calc_sptratio(weight_param=ith_weight,mu_param=ith_mu,std_param=ith_std , cal_covariance_term = False)"
   ]
  },
  {
   "cell_type": "code",
   "execution_count": 14,
   "metadata": {},
   "outputs": [
    {
     "data": {
      "text/plain": [
       "(array([219,  12, 191,  13,  65]), 500)"
      ]
     },
     "execution_count": 14,
     "metadata": {},
     "output_type": "execute_result"
    }
   ],
   "source": [
    "assigned_spt_cov,assigned_spt_cov.sum()"
   ]
  },
  {
   "cell_type": "code",
   "execution_count": 15,
   "metadata": {},
   "outputs": [
    {
     "data": {
      "text/plain": [
       "(array([204,   8, 234,  14,  41]), 501)"
      ]
     },
     "execution_count": 15,
     "metadata": {},
     "output_type": "execute_result"
    }
   ],
   "source": [
    "assigned_spt,assigned_spt.sum()"
   ]
  },
  {
   "cell_type": "code",
   "execution_count": 16,
   "metadata": {},
   "outputs": [
    {
     "data": {
      "text/plain": [
       "array([[0.40962665],\n",
       "       [0.01403504],\n",
       "       [0.4700526 ],\n",
       "       [0.02540586],\n",
       "       [0.08087985]])"
      ]
     },
     "execution_count": 16,
     "metadata": {},
     "output_type": "execute_result"
    }
   ],
   "source": [
    "ratio"
   ]
  },
  {
   "cell_type": "code",
   "execution_count": null,
   "metadata": {},
   "outputs": [],
   "source": []
  },
  {
   "cell_type": "code",
   "execution_count": null,
   "metadata": {},
   "outputs": [],
   "source": []
  },
  {
   "cell_type": "code",
   "execution_count": null,
   "metadata": {},
   "outputs": [],
   "source": []
  },
  {
   "cell_type": "code",
   "execution_count": null,
   "metadata": {},
   "outputs": [],
   "source": []
  }
 ],
 "metadata": {
  "kernelspec": {
   "display_name": "Python 3",
   "language": "python",
   "name": "python3"
  },
  "language_info": {
   "codemirror_mode": {
    "name": "ipython",
    "version": 3
   },
   "file_extension": ".py",
   "mimetype": "text/x-python",
   "name": "python",
   "nbconvert_exporter": "python",
   "pygments_lexer": "ipython3",
   "version": "3.6.8"
  }
 },
 "nbformat": 4,
 "nbformat_minor": 2
}
