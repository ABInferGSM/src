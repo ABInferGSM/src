{
 "cells": [
  {
   "cell_type": "code",
   "execution_count": 2,
   "metadata": {},
   "outputs": [],
   "source": [
    "import pickle\n",
    "import copy\n",
    "import torch\n",
    "import time\n",
    "import numpy as np\n",
    "np.set_printoptions(precision = 4)\n",
    "\n",
    "import sys\n",
    "sys.path.append('./../')\n",
    "\n",
    "from datasets.dataset import _load_collection_real,_load_collection_syn,_load_collection_bbq_data\n",
    "from models_utility.construct_models import _initialize_SMkernel_hyp,_make_gpmodel\n",
    "from models_utility.param_gp import Param\n",
    "\n",
    "\n",
    "\n",
    "from kernels.RBF_kernel import RBF\n",
    "from kernels.SM_kernel import SM\n",
    "from scipy.linalg import norm as fnorm\n",
    "\n",
    "\n",
    "from utility.eval_metric import _evaluate_metric\n",
    "import matplotlib.pyplot as plt\n",
    "\n"
   ]
  },
  {
   "cell_type": "code",
   "execution_count": 3,
   "metadata": {},
   "outputs": [
    {
     "data": {
      "image/png": "[encoded data removed]",
      "text/plain": [
       "<Figure size 792x72 with 1 Axes>"
      ]
     },
     "metadata": {},
     "output_type": "display_data"
    }
   ],
   "source": [
    "import seaborn as sns\n",
    "sns.set()\n",
    "sns.set_style('white')\n",
    "\n",
    "\n",
    "\n",
    "plt.rcParams[\"axes.grid\"] = True\n",
    "plt.rc('font', family='serif')\n",
    "#plt.rc('font', weight='bold')\n",
    "\n",
    "current_palette = sns.color_palette(sns.hls_palette(10+1, l=.4, s=1.0))\n",
    "sns.palplot(current_palette)\n",
    "current_palette = np.asarray(current_palette)"
   ]
  },
  {
   "cell_type": "code",
   "execution_count": 4,
   "metadata": {},
   "outputs": [
    {
     "name": "stdout",
     "output_type": "stream",
     "text": [
      "#loaded collection#\n",
      "/home/yohan/Myenv/Summit_Conference/ICML21_SMapproximation/test\n"
     ]
    },
    {
     "ename": "FileNotFoundError",
     "evalue": "[Errno 2] No such file or directory: './datasets/synthetic/SM_Q2_exp1.mat'",
     "output_type": "error",
     "traceback": [
      "\u001b[0;31m---------------------------------------------------------------------------\u001b[0m",
      "\u001b[0;31mFileNotFoundError\u001b[0m                         Traceback (most recent call last)",
      "\u001b[0;32m/home/yohan/Myenv/lib/python3.6/site-packages/scipy/io/matlab/mio.py\u001b[0m in \u001b[0;36m_open_file\u001b[0;34m(file_like, appendmat, mode)\u001b[0m\n\u001b[1;32m     38\u001b[0m     \u001b[0;32mtry\u001b[0m\u001b[0;34m:\u001b[0m\u001b[0;34m\u001b[0m\u001b[0;34m\u001b[0m\u001b[0m\n\u001b[0;32m---> 39\u001b[0;31m         \u001b[0;32mreturn\u001b[0m \u001b[0mopen\u001b[0m\u001b[0;34m(\u001b[0m\u001b[0mfile_like\u001b[0m\u001b[0;34m,\u001b[0m \u001b[0mmode\u001b[0m\u001b[0;34m)\u001b[0m\u001b[0;34m,\u001b[0m \u001b[0;32mTrue\u001b[0m\u001b[0;34m\u001b[0m\u001b[0;34m\u001b[0m\u001b[0m\n\u001b[0m\u001b[1;32m     40\u001b[0m     \u001b[0;32mexcept\u001b[0m \u001b[0mIOError\u001b[0m\u001b[0;34m:\u001b[0m\u001b[0;34m\u001b[0m\u001b[0;34m\u001b[0m\u001b[0m\n",
      "\u001b[0;31mFileNotFoundError\u001b[0m: [Errno 2] No such file or directory: './datasets/synthetic/SM_Q2_exp1.mat'",
      "\nDuring handling of the above exception, another exception occurred:\n",
      "\u001b[0;31mFileNotFoundError\u001b[0m                         Traceback (most recent call last)",
      "\u001b[0;32m<ipython-input-4-2995049c3f0c>\u001b[0m in \u001b[0;36m<module>\u001b[0;34m()\u001b[0m\n\u001b[1;32m      9\u001b[0m \u001b[0;34m\u001b[0m\u001b[0m\n\u001b[1;32m     10\u001b[0m \u001b[0;31m#filename = 'SM_Q10_exp1_unequal_v3'\u001b[0m\u001b[0;34m\u001b[0m\u001b[0;34m\u001b[0m\u001b[0;34m\u001b[0m\u001b[0m\n\u001b[0;32m---> 11\u001b[0;31m \u001b[0mx_train\u001b[0m\u001b[0;34m,\u001b[0m \u001b[0mx_test\u001b[0m\u001b[0;34m,\u001b[0m \u001b[0mx_full\u001b[0m\u001b[0;34m,\u001b[0m \u001b[0my_train\u001b[0m\u001b[0;34m,\u001b[0m \u001b[0my_test\u001b[0m\u001b[0;34m,\u001b[0m\u001b[0my_full\u001b[0m\u001b[0;34m,\u001b[0m\u001b[0mDataset\u001b[0m \u001b[0;34m=\u001b[0m \u001b[0m_load_collection_syn\u001b[0m\u001b[0;34m(\u001b[0m\u001b[0mfilename\u001b[0m\u001b[0;34m,\u001b[0m \u001b[0mcuda_option\u001b[0m\u001b[0;34m=\u001b[0m\u001b[0mdevice\u001b[0m\u001b[0;34m)\u001b[0m\u001b[0;34m\u001b[0m\u001b[0;34m\u001b[0m\u001b[0m\n\u001b[0m\u001b[1;32m     12\u001b[0m \u001b[0;34m\u001b[0m\u001b[0m\n\u001b[1;32m     13\u001b[0m \u001b[0;34m\u001b[0m\u001b[0m\n",
      "\u001b[0;32m/home/yohan/Myenv/Summit_Conference/ICML21_SMapproximation/datasets/dataset.py\u001b[0m in \u001b[0;36m_load_collection_syn\u001b[0;34m(filename, cuda_option)\u001b[0m\n\u001b[1;32m     84\u001b[0m     \u001b[0;32melif\u001b[0m \u001b[0mfilename\u001b[0m \u001b[0;32min\u001b[0m \u001b[0;34m[\u001b[0m\u001b[0;34m'SM_Q5_exp1_unequal_v3'\u001b[0m\u001b[0;34m,\u001b[0m\u001b[0;34m'SM_Q2_exp1'\u001b[0m\u001b[0;34m]\u001b[0m \u001b[0;34m:\u001b[0m\u001b[0;34m\u001b[0m\u001b[0;34m\u001b[0m\u001b[0m\n\u001b[1;32m     85\u001b[0m         \u001b[0;31m#Dataset = sio.loadmat('./../datasets/synthetic/' + filename + '.mat')\u001b[0m\u001b[0;34m\u001b[0m\u001b[0;34m\u001b[0m\u001b[0;34m\u001b[0m\u001b[0m\n\u001b[0;32m---> 86\u001b[0;31m         \u001b[0mDataset\u001b[0m \u001b[0;34m=\u001b[0m \u001b[0msio\u001b[0m\u001b[0;34m.\u001b[0m\u001b[0mloadmat\u001b[0m\u001b[0;34m(\u001b[0m\u001b[0;34m'./datasets/synthetic/'\u001b[0m \u001b[0;34m+\u001b[0m \u001b[0mfilename\u001b[0m \u001b[0;34m+\u001b[0m \u001b[0;34m'.mat'\u001b[0m\u001b[0;34m)\u001b[0m\u001b[0;34m\u001b[0m\u001b[0;34m\u001b[0m\u001b[0m\n\u001b[0m\u001b[1;32m     87\u001b[0m         \u001b[0mx_train\u001b[0m\u001b[0;34m,\u001b[0m \u001b[0mx_test\u001b[0m\u001b[0;34m,\u001b[0m \u001b[0my_train\u001b[0m\u001b[0;34m,\u001b[0m \u001b[0my_test\u001b[0m \u001b[0;34m,\u001b[0m \u001b[0mx_full\u001b[0m\u001b[0;34m,\u001b[0m \u001b[0my_full\u001b[0m \u001b[0;34m=\u001b[0m \u001b[0mDataset\u001b[0m\u001b[0;34m[\u001b[0m\u001b[0;34m'x_train'\u001b[0m\u001b[0;34m]\u001b[0m\u001b[0;34m,\u001b[0m \u001b[0mDataset\u001b[0m\u001b[0;34m[\u001b[0m\u001b[0;34m'x_test'\u001b[0m\u001b[0;34m]\u001b[0m\u001b[0;34m,\u001b[0m\u001b[0mDataset\u001b[0m\u001b[0;34m[\u001b[0m\u001b[0;34m'y_train'\u001b[0m\u001b[0;34m]\u001b[0m\u001b[0;34m,\u001b[0m \u001b[0mDataset\u001b[0m\u001b[0;34m[\u001b[0m\u001b[0;34m'y_test'\u001b[0m\u001b[0;34m]\u001b[0m\u001b[0;34m,\u001b[0m\u001b[0mDataset\u001b[0m\u001b[0;34m[\u001b[0m\u001b[0;34m'x_full'\u001b[0m\u001b[0;34m]\u001b[0m\u001b[0;34m,\u001b[0m \u001b[0mDataset\u001b[0m\u001b[0;34m[\u001b[0m\u001b[0;34m'y_full'\u001b[0m\u001b[0;34m]\u001b[0m\u001b[0;34m\u001b[0m\u001b[0;34m\u001b[0m\u001b[0m\n\u001b[1;32m     88\u001b[0m         \u001b[0mx_train\u001b[0m\u001b[0;34m,\u001b[0m \u001b[0mx_test\u001b[0m\u001b[0;34m,\u001b[0m \u001b[0my_train\u001b[0m\u001b[0;34m,\u001b[0m \u001b[0my_test\u001b[0m\u001b[0;34m,\u001b[0m \u001b[0mx_full\u001b[0m\u001b[0;34m,\u001b[0m\u001b[0my_full\u001b[0m \u001b[0;34m=\u001b[0m \u001b[0mnp\u001b[0m\u001b[0;34m.\u001b[0m\u001b[0mfloat64\u001b[0m\u001b[0;34m(\u001b[0m\u001b[0mx_train\u001b[0m\u001b[0;34m)\u001b[0m\u001b[0;34m,\u001b[0m \u001b[0mnp\u001b[0m\u001b[0;34m.\u001b[0m\u001b[0mfloat64\u001b[0m\u001b[0;34m(\u001b[0m\u001b[0mx_test\u001b[0m\u001b[0;34m)\u001b[0m \u001b[0;34m,\u001b[0m \u001b[0mnp\u001b[0m\u001b[0;34m.\u001b[0m\u001b[0mfloat64\u001b[0m\u001b[0;34m(\u001b[0m\u001b[0my_train\u001b[0m\u001b[0;34m)\u001b[0m\u001b[0;34m,\u001b[0m \u001b[0mnp\u001b[0m\u001b[0;34m.\u001b[0m\u001b[0mfloat64\u001b[0m\u001b[0;34m(\u001b[0m\u001b[0my_test\u001b[0m\u001b[0;34m)\u001b[0m\u001b[0;34m,\u001b[0m \u001b[0mnp\u001b[0m\u001b[0;34m.\u001b[0m\u001b[0mfloat64\u001b[0m\u001b[0;34m(\u001b[0m\u001b[0mx_full\u001b[0m\u001b[0;34m)\u001b[0m\u001b[0;34m,\u001b[0m \u001b[0mnp\u001b[0m\u001b[0;34m.\u001b[0m\u001b[0mfloat64\u001b[0m\u001b[0;34m(\u001b[0m\u001b[0my_full\u001b[0m\u001b[0;34m)\u001b[0m\u001b[0;34m\u001b[0m\u001b[0;34m\u001b[0m\u001b[0m\n",
      "\u001b[0;32m/home/yohan/Myenv/lib/python3.6/site-packages/scipy/io/matlab/mio.py\u001b[0m in \u001b[0;36mloadmat\u001b[0;34m(file_name, mdict, appendmat, **kwargs)\u001b[0m\n\u001b[1;32m    214\u001b[0m     \"\"\"\n\u001b[1;32m    215\u001b[0m     \u001b[0mvariable_names\u001b[0m \u001b[0;34m=\u001b[0m \u001b[0mkwargs\u001b[0m\u001b[0;34m.\u001b[0m\u001b[0mpop\u001b[0m\u001b[0;34m(\u001b[0m\u001b[0;34m'variable_names'\u001b[0m\u001b[0;34m,\u001b[0m \u001b[0;32mNone\u001b[0m\u001b[0;34m)\u001b[0m\u001b[0;34m\u001b[0m\u001b[0;34m\u001b[0m\u001b[0m\n\u001b[0;32m--> 216\u001b[0;31m     \u001b[0;32mwith\u001b[0m \u001b[0m_open_file_context\u001b[0m\u001b[0;34m(\u001b[0m\u001b[0mfile_name\u001b[0m\u001b[0;34m,\u001b[0m \u001b[0mappendmat\u001b[0m\u001b[0;34m)\u001b[0m \u001b[0;32mas\u001b[0m \u001b[0mf\u001b[0m\u001b[0;34m:\u001b[0m\u001b[0;34m\u001b[0m\u001b[0;34m\u001b[0m\u001b[0m\n\u001b[0m\u001b[1;32m    217\u001b[0m         \u001b[0mMR\u001b[0m\u001b[0;34m,\u001b[0m \u001b[0m_\u001b[0m \u001b[0;34m=\u001b[0m \u001b[0mmat_reader_factory\u001b[0m\u001b[0;34m(\u001b[0m\u001b[0mf\u001b[0m\u001b[0;34m,\u001b[0m \u001b[0;34m**\u001b[0m\u001b[0mkwargs\u001b[0m\u001b[0;34m)\u001b[0m\u001b[0;34m\u001b[0m\u001b[0;34m\u001b[0m\u001b[0m\n\u001b[1;32m    218\u001b[0m         \u001b[0mmatfile_dict\u001b[0m \u001b[0;34m=\u001b[0m \u001b[0mMR\u001b[0m\u001b[0;34m.\u001b[0m\u001b[0mget_variables\u001b[0m\u001b[0;34m(\u001b[0m\u001b[0mvariable_names\u001b[0m\u001b[0;34m)\u001b[0m\u001b[0;34m\u001b[0m\u001b[0;34m\u001b[0m\u001b[0m\n",
      "\u001b[0;32m/usr/lib/python3.6/contextlib.py\u001b[0m in \u001b[0;36m__enter__\u001b[0;34m(self)\u001b[0m\n\u001b[1;32m     79\u001b[0m     \u001b[0;32mdef\u001b[0m \u001b[0m__enter__\u001b[0m\u001b[0;34m(\u001b[0m\u001b[0mself\u001b[0m\u001b[0;34m)\u001b[0m\u001b[0;34m:\u001b[0m\u001b[0;34m\u001b[0m\u001b[0;34m\u001b[0m\u001b[0m\n\u001b[1;32m     80\u001b[0m         \u001b[0;32mtry\u001b[0m\u001b[0;34m:\u001b[0m\u001b[0;34m\u001b[0m\u001b[0;34m\u001b[0m\u001b[0m\n\u001b[0;32m---> 81\u001b[0;31m             \u001b[0;32mreturn\u001b[0m \u001b[0mnext\u001b[0m\u001b[0;34m(\u001b[0m\u001b[0mself\u001b[0m\u001b[0;34m.\u001b[0m\u001b[0mgen\u001b[0m\u001b[0;34m)\u001b[0m\u001b[0;34m\u001b[0m\u001b[0;34m\u001b[0m\u001b[0m\n\u001b[0m\u001b[1;32m     82\u001b[0m         \u001b[0;32mexcept\u001b[0m \u001b[0mStopIteration\u001b[0m\u001b[0;34m:\u001b[0m\u001b[0;34m\u001b[0m\u001b[0;34m\u001b[0m\u001b[0m\n\u001b[1;32m     83\u001b[0m             \u001b[0;32mraise\u001b[0m \u001b[0mRuntimeError\u001b[0m\u001b[0;34m(\u001b[0m\u001b[0;34m\"generator didn't yield\"\u001b[0m\u001b[0;34m)\u001b[0m \u001b[0;32mfrom\u001b[0m \u001b[0;32mNone\u001b[0m\u001b[0;34m\u001b[0m\u001b[0;34m\u001b[0m\u001b[0m\n",
      "\u001b[0;32m/home/yohan/Myenv/lib/python3.6/site-packages/scipy/io/matlab/mio.py\u001b[0m in \u001b[0;36m_open_file_context\u001b[0;34m(file_like, appendmat, mode)\u001b[0m\n\u001b[1;32m     17\u001b[0m \u001b[0;34m@\u001b[0m\u001b[0mcontextmanager\u001b[0m\u001b[0;34m\u001b[0m\u001b[0;34m\u001b[0m\u001b[0m\n\u001b[1;32m     18\u001b[0m \u001b[0;32mdef\u001b[0m \u001b[0m_open_file_context\u001b[0m\u001b[0;34m(\u001b[0m\u001b[0mfile_like\u001b[0m\u001b[0;34m,\u001b[0m \u001b[0mappendmat\u001b[0m\u001b[0;34m,\u001b[0m \u001b[0mmode\u001b[0m\u001b[0;34m=\u001b[0m\u001b[0;34m'rb'\u001b[0m\u001b[0;34m)\u001b[0m\u001b[0;34m:\u001b[0m\u001b[0;34m\u001b[0m\u001b[0;34m\u001b[0m\u001b[0m\n\u001b[0;32m---> 19\u001b[0;31m     \u001b[0mf\u001b[0m\u001b[0;34m,\u001b[0m \u001b[0mopened\u001b[0m \u001b[0;34m=\u001b[0m \u001b[0m_open_file\u001b[0m\u001b[0;34m(\u001b[0m\u001b[0mfile_like\u001b[0m\u001b[0;34m,\u001b[0m \u001b[0mappendmat\u001b[0m\u001b[0;34m,\u001b[0m \u001b[0mmode\u001b[0m\u001b[0;34m)\u001b[0m\u001b[0;34m\u001b[0m\u001b[0;34m\u001b[0m\u001b[0m\n\u001b[0m\u001b[1;32m     20\u001b[0m     \u001b[0;32myield\u001b[0m \u001b[0mf\u001b[0m\u001b[0;34m\u001b[0m\u001b[0;34m\u001b[0m\u001b[0m\n\u001b[1;32m     21\u001b[0m     \u001b[0;32mif\u001b[0m \u001b[0mopened\u001b[0m\u001b[0;34m:\u001b[0m\u001b[0;34m\u001b[0m\u001b[0;34m\u001b[0m\u001b[0m\n",
      "\u001b[0;32m/home/yohan/Myenv/lib/python3.6/site-packages/scipy/io/matlab/mio.py\u001b[0m in \u001b[0;36m_open_file\u001b[0;34m(file_like, appendmat, mode)\u001b[0m\n\u001b[1;32m     43\u001b[0m             \u001b[0;32mif\u001b[0m \u001b[0mappendmat\u001b[0m \u001b[0;32mand\u001b[0m \u001b[0;32mnot\u001b[0m \u001b[0mfile_like\u001b[0m\u001b[0;34m.\u001b[0m\u001b[0mendswith\u001b[0m\u001b[0;34m(\u001b[0m\u001b[0;34m'.mat'\u001b[0m\u001b[0;34m)\u001b[0m\u001b[0;34m:\u001b[0m\u001b[0;34m\u001b[0m\u001b[0;34m\u001b[0m\u001b[0m\n\u001b[1;32m     44\u001b[0m                 \u001b[0mfile_like\u001b[0m \u001b[0;34m+=\u001b[0m \u001b[0;34m'.mat'\u001b[0m\u001b[0;34m\u001b[0m\u001b[0;34m\u001b[0m\u001b[0m\n\u001b[0;32m---> 45\u001b[0;31m             \u001b[0;32mreturn\u001b[0m \u001b[0mopen\u001b[0m\u001b[0;34m(\u001b[0m\u001b[0mfile_like\u001b[0m\u001b[0;34m,\u001b[0m \u001b[0mmode\u001b[0m\u001b[0;34m)\u001b[0m\u001b[0;34m,\u001b[0m \u001b[0;32mTrue\u001b[0m\u001b[0;34m\u001b[0m\u001b[0;34m\u001b[0m\u001b[0m\n\u001b[0m\u001b[1;32m     46\u001b[0m         \u001b[0;32melse\u001b[0m\u001b[0;34m:\u001b[0m\u001b[0;34m\u001b[0m\u001b[0;34m\u001b[0m\u001b[0m\n\u001b[1;32m     47\u001b[0m             \u001b[0;32mraise\u001b[0m \u001b[0mIOError\u001b[0m\u001b[0;34m(\u001b[0m\u001b[0;34m'Reader needs file name or open file-like object'\u001b[0m\u001b[0;34m)\u001b[0m\u001b[0;34m\u001b[0m\u001b[0;34m\u001b[0m\u001b[0m\n",
      "\u001b[0;31mFileNotFoundError\u001b[0m: [Errno 2] No such file or directory: './datasets/synthetic/SM_Q2_exp1.mat'"
     ]
    }
   ],
   "source": [
    "random_seed = 1000\n",
    "device = True\n",
    "\n",
    "#SM_Q2_exp1.mat 40.9 kB9일 전\n",
    "\n",
    "filename = 'SM_Q2_exp1'\n",
    "#filename = 'SM_Q5_exp1_unequal_v3'\n",
    "#SM_Q5_exp1_unequal_v3\n",
    "\n",
    "#filename = 'SM_Q10_exp1_unequal_v3'\n",
    "x_train, x_test, x_full, y_train, y_test,y_full,Dataset = _load_collection_syn(filename, cuda_option=device)\n",
    "\n",
    "\n",
    "#filename = 'buzz'\n",
    "#filename = 'pumadyn8nh'\n",
    "#x_train, x_test, y_train, y_test = _load_collection_ssdkl_data(filename, random_seed=random_seed, numtotal=200000, cuda_option=device)\n"
   ]
  },
  {
   "cell_type": "code",
   "execution_count": null,
   "metadata": {},
   "outputs": [],
   "source": []
  },
  {
   "cell_type": "code",
   "execution_count": 5,
   "metadata": {},
   "outputs": [
    {
     "ename": "NameError",
     "evalue": "name 'y_train' is not defined",
     "output_type": "error",
     "traceback": [
      "\u001b[0;31m---------------------------------------------------------------------------\u001b[0m",
      "\u001b[0;31mNameError\u001b[0m                                 Traceback (most recent call last)",
      "\u001b[0;32m<ipython-input-5-abf69818f0dd>\u001b[0m in \u001b[0;36m<module>\u001b[0;34m()\u001b[0m\n\u001b[1;32m     23\u001b[0m \u001b[0;34m\u001b[0m\u001b[0m\n\u001b[1;32m     24\u001b[0m \u001b[0;34m\u001b[0m\u001b[0m\n\u001b[0;32m---> 25\u001b[0;31m \u001b[0msetting_dict\u001b[0m\u001b[0;34m[\u001b[0m\u001b[0;34m'noise_err'\u001b[0m\u001b[0;34m]\u001b[0m \u001b[0;34m=\u001b[0m \u001b[0;36m0.05\u001b[0m\u001b[0;34m*\u001b[0m\u001b[0my_train\u001b[0m\u001b[0;34m.\u001b[0m\u001b[0mstd\u001b[0m\u001b[0;34m(\u001b[0m\u001b[0;34m)\u001b[0m\u001b[0;34m\u001b[0m\u001b[0;34m\u001b[0m\u001b[0m\n\u001b[0m\u001b[1;32m     26\u001b[0m \u001b[0;34m\u001b[0m\u001b[0m\n\u001b[1;32m     27\u001b[0m \u001b[0;34m\u001b[0m\u001b[0m\n",
      "\u001b[0;31mNameError\u001b[0m: name 'y_train' is not defined"
     ]
    }
   ],
   "source": [
    "setting_dict = {}\n",
    "setting_dict['random_seed'] = random_seed\n",
    "setting_dict['init_sample_num'] = 500\n",
    "\n",
    "#setting_dict['input_dim'] = x_train.shape[1]\n",
    "setting_dict['input_dim'] = 1\n",
    "\n",
    "setting_dict['Num_Q'] = 5\n",
    "setting_dict['num_sample_pt'] = 3\n",
    "setting_dict['num_batch'] = 1\n",
    "\n",
    "\n",
    "setting_dict['lr_hyp'] = 1e-3         #0.001,0.0005  error -- >0.0001 equal_reg\n",
    "\n",
    "setting_dict['kl_option'] = True   #['True','False']\n",
    "setting_dict['num_batch'] = 1\n",
    "setting_dict['tau0'] = 1000\n",
    "setting_dict['iter'] = 10000        #[5000,8000]\n",
    "setting_dict['num_rep'] = 1\n",
    "setting_dict['weight_rate'] = 1e-3  # [1e-2,1e-3,1e-5]\n",
    "setting_dict['optimizer'] = 'Adam'   #['SGD','Adam']\n",
    "setting_dict['lr_hyp'] = 1e-3\n",
    "\n",
    "\n",
    "setting_dict['noise_err'] = 0.05*y_train.std()\n",
    "\n",
    "\n",
    "setting_dict = _initialize_SMkernel_hyp( x_train,y_train, setting_dict, random_seed)\n"
   ]
  },
  {
   "cell_type": "code",
   "execution_count": null,
   "metadata": {},
   "outputs": [],
   "source": [
    "0.5"
   ]
  },
  {
   "cell_type": "code",
   "execution_count": 6,
   "metadata": {},
   "outputs": [
    {
     "ename": "KeyError",
     "evalue": "'hypparam'",
     "output_type": "error",
     "traceback": [
      "\u001b[0;31m---------------------------------------------------------------------------\u001b[0m",
      "\u001b[0;31mKeyError\u001b[0m                                  Traceback (most recent call last)",
      "\u001b[0;32m<ipython-input-6-d8a999ee315f>\u001b[0m in \u001b[0;36m<module>\u001b[0;34m()\u001b[0m\n\u001b[1;32m      7\u001b[0m \u001b[0;31m#ith_model_name = 'equal_reg'\u001b[0m\u001b[0;34m\u001b[0m\u001b[0;34m\u001b[0m\u001b[0;34m\u001b[0m\u001b[0m\n\u001b[1;32m      8\u001b[0m \u001b[0mith_model_name\u001b[0m \u001b[0;34m=\u001b[0m \u001b[0;34m'gpsm'\u001b[0m\u001b[0;34m\u001b[0m\u001b[0;34m\u001b[0m\u001b[0m\n\u001b[0;32m----> 9\u001b[0;31m \u001b[0mmodel\u001b[0m \u001b[0;34m=\u001b[0m \u001b[0m_make_gpmodel\u001b[0m\u001b[0;34m(\u001b[0m\u001b[0mmodel_name\u001b[0m\u001b[0;34m=\u001b[0m\u001b[0mith_model_name\u001b[0m\u001b[0;34m,\u001b[0m \u001b[0msetting_dict\u001b[0m\u001b[0;34m=\u001b[0m\u001b[0msetting_dict\u001b[0m\u001b[0;34m,\u001b[0m \u001b[0mdevice\u001b[0m\u001b[0;34m=\u001b[0m\u001b[0mdevice\u001b[0m\u001b[0;34m)\u001b[0m\u001b[0;34m\u001b[0m\u001b[0;34m\u001b[0m\u001b[0m\n\u001b[0m\u001b[1;32m     10\u001b[0m \u001b[0mmodel\u001b[0m\u001b[0;34m\u001b[0m\u001b[0;34m\u001b[0m\u001b[0m\n",
      "\u001b[0;32m/home/yohan/Myenv/Summit_Conference/ICML21_SMapproximation/models_utility/construct_models.py\u001b[0m in \u001b[0;36m_make_gpmodel\u001b[0;34m(model_name, setting_dict, device)\u001b[0m\n\u001b[1;32m    123\u001b[0m \u001b[0;34m\u001b[0m\u001b[0m\n\u001b[1;32m    124\u001b[0m     \u001b[0;32mif\u001b[0m \u001b[0mmodel_name\u001b[0m \u001b[0;34m==\u001b[0m \u001b[0;34m'gpsm'\u001b[0m\u001b[0;34m:\u001b[0m\u001b[0;34m\u001b[0m\u001b[0;34m\u001b[0m\u001b[0m\n\u001b[0;32m--> 125\u001b[0;31m         \u001b[0mparam_dict\u001b[0m \u001b[0;34m=\u001b[0m \u001b[0msetting_dict\u001b[0m\u001b[0;34m[\u001b[0m\u001b[0;34m'hypparam'\u001b[0m\u001b[0;34m]\u001b[0m\u001b[0;34m\u001b[0m\u001b[0;34m\u001b[0m\u001b[0m\n\u001b[0m\u001b[1;32m    126\u001b[0m         Kern = SM(param_dict['weight'],\n\u001b[1;32m    127\u001b[0m                   \u001b[0mparam_dict\u001b[0m\u001b[0;34m[\u001b[0m\u001b[0;34m'mean'\u001b[0m\u001b[0;34m]\u001b[0m\u001b[0;34m,\u001b[0m\u001b[0;34m\u001b[0m\u001b[0;34m\u001b[0m\u001b[0m\n",
      "\u001b[0;31mKeyError\u001b[0m: 'hypparam'"
     ]
    }
   ],
   "source": [
    "# vssgp_model = vssgp(x_train,y_train,setting_dict,device = device)\n",
    "# vssgp_model._set_data(batch_x=x_train, batch_y=y_train)\n",
    "# vssgp_model._set_inducing_pt(setting_dict['Num_Q'] * setting_dict['num_sample_pt'])\n",
    "# vssgp_model.train()    \n",
    "\n",
    "#ith_model_name = 'weight_reg'\n",
    "#ith_model_name = 'equal_reg'\n",
    "ith_model_name = 'gpsm'\n",
    "model = _make_gpmodel(model_name=ith_model_name, setting_dict=setting_dict, device=device)\n",
    "model"
   ]
  },
  {
   "cell_type": "code",
   "execution_count": null,
   "metadata": {
    "scrolled": false
   },
   "outputs": [],
   "source": [
    "optimizable_param =  [*model.parameters(),model.likelihood.variance]\n",
    "#optimizable_param =  [*model.parameters()]\n",
    "optimizable_param"
   ]
  },
  {
   "cell_type": "code",
   "execution_count": 1,
   "metadata": {},
   "outputs": [
    {
     "ename": "NameError",
     "evalue": "name 'ith_model_name' is not defined",
     "output_type": "error",
     "traceback": [
      "\u001b[0;31m---------------------------------------------------------------------------\u001b[0m",
      "\u001b[0;31mNameError\u001b[0m                                 Traceback (most recent call last)",
      "\u001b[0;32m<ipython-input-1-9365bb4d9263>\u001b[0m in \u001b[0;36m<module>\u001b[0;34m()\u001b[0m\n\u001b[0;32m----> 1\u001b[0;31m \u001b[0mith_model_name\u001b[0m\u001b[0;34m\u001b[0m\u001b[0;34m\u001b[0m\u001b[0m\n\u001b[0m",
      "\u001b[0;31mNameError\u001b[0m: name 'ith_model_name' is not defined"
     ]
    }
   ],
   "source": [
    "ith_model_name"
   ]
  },
  {
   "cell_type": "code",
   "execution_count": null,
   "metadata": {},
   "outputs": [],
   "source": [
    "from models_utility.personalized_adam import Adam_variation\n",
    "\n",
    "# optimizer = Adam_variation(optimizable_param ,\n",
    "#                            lr=0.005,\n",
    "#                            betas=(0.9, 0.99),\n",
    "#                            eps=1e-08,\n",
    "#                            weight_decay=0.0)\n",
    "\n",
    "optimizer = torch.optim.Adam(optimizable_param ,\n",
    "                               lr=0.005,\n",
    "                               betas=(0.9, 0.99),\n",
    "                               eps=1e-08,\n",
    "                               weight_decay=0.0)"
   ]
  },
  {
   "cell_type": "code",
   "execution_count": null,
   "metadata": {},
   "outputs": [],
   "source": [
    "# 0 th loss0 : -595.5007, reg0 : 0.0000, test rmse : 7.7815, test mnll: : 226.2088\n",
    "# self.weight.exp(),self.mu.exp(),self.std.exp(),likelihood variance\n",
    "\n",
    "# 50 th loss0 : -1081.4603, reg0 : 0.0000, test rmse : 0.2438, test mnll: : 0.2527\n",
    "# self.weight.exp(),self.mu.exp(),self.std.exp(),likelihood variance\n",
    "\n",
    "# 100 th loss0 : -1208.1608, reg0 : 0.0000, test rmse : 0.1336, test mnll: : -0.1542\n",
    "# self.weight.exp(),self.mu.exp(),self.std.exp(),likelihood variance\n",
    "\n",
    "# 150 th loss0 : -1278.1105, reg0 : 0.0000, test rmse : 0.1069, test mnll: : -0.4631\n",
    "# self.weight.exp(),self.mu.exp(),self.std.exp(),likelihood variance\n",
    "\n",
    "# 200 th loss0 : -1324.3414, reg0 : 0.0000, test rmse : 0.1024, test mnll: : -0.6532\n",
    "# self.weight.exp(),self.mu.exp(),self.std.exp(),likelihood variance\n",
    "\n",
    "# 250 th loss0 : -1355.5130, reg0 : 0.0000, test rmse : 0.1011, test mnll: : -0.7479\n",
    "# self.weight.exp(),self.mu.exp(),self.std.exp(),likelihood variance\n",
    "\n",
    "# 300 th loss0 : -1382.4940, reg0 : 0.0000, test rmse : 0.1007, test mnll: : -0.7964\n",
    "# self.weight.exp(),self.mu.exp(),self.std.exp(),likelihood variance\n",
    "\n",
    "# 350 th loss0 : -1405.8946, reg0 : 0.0000, test rmse : 0.1008, test mnll: : -0.8241\n",
    "# self.weight.exp(),self.mu.exp(),self.std.exp(),likelihood variance\n",
    "\n",
    "# 400 th loss0 : -1424.5523, reg0 : 0.0000, test rmse : 0.1012, test mnll: : -0.8398\n",
    "# self.weight.exp(),self.mu.exp(),self.std.exp(),likelihood variance\n",
    "\n",
    "# 450 th loss0 : -1439.5150, reg0 : 0.0000, test rmse : 0.1013, test mnll: : -0.8519\n",
    "# self.weight.exp(),self.mu.exp(),self.std.exp(),likelihood variance\n",
    "\n",
    "###\n",
    "\n",
    "# 0 th loss0 : -595.5007, reg0 : 0.0000, test rmse : 7.7815, test mnll: : 226.2094\n",
    "# self.weight.exp(),self.mu.exp(),self.std.exp(),likelihood variance\n",
    "\n",
    "# 50 th loss0 : -1059.3217, reg0 : 0.0000, test rmse : 0.3562, test mnll: : 0.4829\n",
    "# self.weight.exp(),self.mu.exp(),self.std.exp(),likelihood variance\n",
    "\n",
    "# 100 th loss0 : -1192.3015, reg0 : 0.0000, test rmse : 0.1277, test mnll: : -0.1609\n",
    "# self.weight.exp(),self.mu.exp(),self.std.exp(),likelihood variance\n",
    "\n",
    "# 150 th loss0 : -1252.8665, reg0 : 0.0000, test rmse : 0.1060, test mnll: : -0.4748\n",
    "# self.weight.exp(),self.mu.exp(),self.std.exp(),likelihood variance\n",
    "\n",
    "# 200 th loss0 : -1295.8831, reg0 : 0.0000, test rmse : 0.1016, test mnll: : -0.6759\n",
    "# self.weight.exp(),self.mu.exp(),self.std.exp(),likelihood variance\n",
    "\n",
    "# 250 th loss0 : -1329.5363, reg0 : 0.0000, test rmse : 0.1016, test mnll: : -0.7728\n",
    "# self.weight.exp(),self.mu.exp(),self.std.exp(),likelihood variance\n",
    "\n",
    "# 300 th loss0 : -1356.7233, reg0 : 0.0000, test rmse : 0.1009, test mnll: : -0.8228\n",
    "# self.weight.exp(),self.mu.exp(),self.std.exp(),likelihood variance\n",
    "\n",
    "# 350 th loss0 : -1378.7871, reg0 : 0.0000, test rmse : 0.1006, test mnll: : -0.8484\n",
    "# self.weight.exp(),self.mu.exp(),self.std.exp(),likelihood variance\n",
    "\n",
    "# 400 th loss0 : -1396.5084, reg0 : 0.0000, test rmse : 0.1007, test mnll: : -0.8608\n",
    "# self.weight.exp(),self.mu.exp(),self.std.exp(),likelihood variance\n",
    "\n",
    "# 450 th loss0 : -1411.2996, reg0 : 0.0000, test rmse : 0.1010, test mnll: : -0.8660\n",
    "# self.weight.exp(),self.mu.exp(),self.std.exp(),likelihood variance\n"
   ]
  },
  {
   "cell_type": "code",
   "execution_count": null,
   "metadata": {
    "scrolled": false
   },
   "outputs": [],
   "source": [
    "for i in range(setting_dict['iter'] + 1):\n",
    "\n",
    "\n",
    "    ith_tic = time.time()    \n",
    "    optimizer.zero_grad()    \n",
    "    \n",
    "    \n",
    "    \n",
    "#     ith_loss,ith_reg= model.compute_loss(batch_x=x_train, batch_y=y_train, kl_option=setting_dict['kl_option'])\n",
    "#     #losstotal = ith_loss + ith_reg\n",
    "#     losstotal = ith_loss + ith_reg\n",
    "\n",
    "\n",
    "\n",
    "    ith_loss = model.compute_loss(batch_x=x_train, batch_y=y_train, kl_option=setting_dict['kl_option'])\n",
    "    #losstotal = ith_loss + ith_reg\n",
    "    ith_reg = torch.tensor(0.0).cuda()\n",
    "    losstotal = ith_loss    \n",
    "    \n",
    "    \n",
    "    \n",
    "    losstotal.backward()\n",
    "    optimizer.step()\n",
    "\n",
    "    \n",
    "#     pred_test_mu, pred_test_var = model._predict( inputs_new=x_test)    \n",
    "#     ith_rmse,ith_mnll = _evaluate_metric(pred_test_mu, pred_test_var, y_test)\n",
    "\n",
    "#     if i%500 == 0 :\n",
    "#         print('%d th loss: %.3f, mse : %.3f, mnll : %.3f' % (i, ith_loss.cpu().data.numpy(), ith_rmse, ith_mnll))\n",
    "\n",
    "    \n",
    "    \n",
    "    with torch.no_grad():\n",
    "        pred_train_mu, pred_train_var = model._predict(inputs_new=x_train)\n",
    "        pred_test_mu, pred_test_var = model._predict(inputs_new=x_test)\n",
    "\n",
    "\n",
    "    # out1 : root mean square (rmse)\n",
    "    # out2 : mean negative log likelihood (mnll)\n",
    "    #ith_rmse,ith_mnll = _evaluate_metric(pred_test_mu, pred_test_var, y_test)\n",
    "    ith_rmse,ith_mnll = _evaluate_metric(pred_test_mu, pred_test_var, y_test)\n",
    "\n",
    "\n",
    "\n",
    "\n",
    "    if i % 50 == 0 :\n",
    "        print('%d th loss0 : %.4f, reg0 : %.4f, test rmse : %.4f, test mnll: : %.4f' % (i,ith_loss.cpu().data.numpy(),ith_reg.cpu().data.numpy(),ith_rmse,ith_mnll))\n",
    "        try:\n",
    "            print('self.weight.exp(),self.mu.exp(),self.std.exp(),likelihood variance')            \n",
    "            print(model.weight.exp().squeeze(),model.mu.exp().squeeze(),model.std.exp().squeeze(),model.likelihood.variance.transform()**2)\n",
    "\n",
    "            print('\\n')\n",
    "            print('self.num_samplept_list_at')\n",
    "            print(model.num_samplept_list_at)\n",
    "        except:\n",
    "            pass\n",
    "        \n",
    "#                 print('self.weight.exp(),self.mu.exp(),self.std.exp()')            \n",
    "#                 print(ith_model.kernel.weight.exp().squeeze(),ith_model.kernel.mu.exp().squeeze(),ith_model.kernel.std.exp().squeeze())\n",
    "\n",
    "        print('')\n",
    "\n",
    "    \n",
    "    \n",
    "\n",
    "\n"
   ]
  },
  {
   "cell_type": "code",
   "execution_count": null,
   "metadata": {},
   "outputs": [],
   "source": [
    "# pred_train_mu\n",
    "# with torch.no_grad():\n",
    "#     pred_train_mu, pred_train_var = ith_model._predict(inputs_new=x_train)\n",
    "#     pred_test_mu, pred_test_var = ith_model._predict(inputs_new=x_full)\n",
    "#     prede_test_mu, prede_test_var = ith_model._predict_exact(inputs_new = x_full, diag=True)\n",
    "#     ith_ermse,ith_emnll = _evaluate_metric(prede_test_mu, prede_test_var, y_full)\n",
    "# #     ith_ermse,ith_emnll "
   ]
  },
  {
   "cell_type": "code",
   "execution_count": null,
   "metadata": {},
   "outputs": [],
   "source": [
    "with torch.no_grad():\n",
    "    pred_train_mu, pred_train_var = model._predict( inputs_new=x_train)\n",
    "    #pred_train_mu, pred_train_var = model._predict_exact(inputs_new = x_train, diag=True)\n",
    "    \n",
    "\n",
    "\n",
    "plt.figure(figsize=(20,3))\n",
    "if x_train.shape[1] == 1:\n",
    "    plt.plot(x_train.cpu().data.numpy(),pred_train_mu.cpu().data.numpy(),'b.')\n",
    "    plt.plot(x_train.cpu().data.numpy(),y_train.cpu().data.numpy(),'r.')\n",
    "    plt.fill_between( x_train.cpu().data.numpy().squeeze(),\n",
    "                      pred_train_mu.cpu().data.numpy().squeeze() - np.sqrt(pred_train_var.cpu().data.numpy()).squeeze(),\n",
    "                      pred_train_mu.cpu().data.numpy().squeeze() + np.sqrt(pred_train_var.cpu().data.numpy()).squeeze(),\n",
    "                      alpha = 0.5, edgecolor = 'b', facecolor = 'b')\n",
    "else:\n",
    "    plt.plot(pred_train_mu.cpu().data.numpy(),'b.')\n",
    "    plt.plot(y_train.cpu().data.numpy(),'r.')\n",
    "#     plt.fill_between( x_train.cpu().data.numpy().squeeze(),\n",
    "#                       pred_train_mu.cpu().data.numpy().squeeze() - np.sqrt(pred_train_var.cpu().data.numpy()).squeeze(),\n",
    "#                       pred_train_mu.cpu().data.numpy().squeeze() + np.sqrt(pred_train_var.cpu().data.numpy()).squeeze(),\n",
    "#                       alpha = 0.5, edgecolor = 'b', facecolor = 'b')        \n",
    "\n",
    "_evaluate_metric(pred_train_mu, pred_train_var, y_train)"
   ]
  },
  {
   "cell_type": "code",
   "execution_count": null,
   "metadata": {},
   "outputs": [],
   "source": []
  },
  {
   "cell_type": "code",
   "execution_count": null,
   "metadata": {},
   "outputs": [],
   "source": [
    "#torch.vs\n",
    "#x_test2 = torch.cat([x_test],dim=0)\n",
    "#x_test2 = torch.cat([x_test,x_test+5,x_test+10],dim=0)"
   ]
  },
  {
   "cell_type": "code",
   "execution_count": null,
   "metadata": {},
   "outputs": [],
   "source": [
    "with torch.no_grad():\n",
    "    pred_test_mu, pred_test_var = model._predict( inputs_new=x_test)\n",
    "    #pred_test_mu, pred_test_var = model._predict_exact(inputs_new = x_test, diag=True)\n",
    "\n",
    "plt.figure(figsize=(20,3))\n",
    "if x_test.shape[1] == 1:\n",
    "    plt.plot(x_test.cpu().data.numpy(),y_test.cpu().data.numpy(),'r.')\n",
    "    plt.plot(x_test.cpu().data.numpy(),pred_test_mu.cpu().data.numpy(),'b.')\n",
    "    plt.fill_between( x_test.cpu().data.numpy().squeeze(),\n",
    "                      pred_test_mu.cpu().data.numpy().squeeze() - np.sqrt(pred_test_var.cpu().data.numpy()).squeeze(),\n",
    "                      pred_test_mu.cpu().data.numpy().squeeze() + np.sqrt(pred_test_var.cpu().data.numpy()).squeeze(),\n",
    "                      alpha = 0.5, edgecolor = 'b', facecolor = 'b')\n",
    "else:   \n",
    "    plt.plot(pred_test_mu.cpu().data.numpy(),'b.')\n",
    "    #plt.plot(y_test.cpu().data.numpy(),'r.')\n",
    "#plt.ylim([-50,50])\n",
    "_evaluate_metric(pred_test_mu, pred_test_var, y_test)"
   ]
  },
  {
   "cell_type": "code",
   "execution_count": null,
   "metadata": {},
   "outputs": [],
   "source": [
    "pred_test_var.cpu().data.numpy()"
   ]
  },
  {
   "cell_type": "code",
   "execution_count": null,
   "metadata": {},
   "outputs": [],
   "source": []
  },
  {
   "cell_type": "code",
   "execution_count": null,
   "metadata": {},
   "outputs": [],
   "source": []
  },
  {
   "cell_type": "code",
   "execution_count": null,
   "metadata": {},
   "outputs": [],
   "source": []
  }
 ],
 "metadata": {
  "kernelspec": {
   "display_name": "Python 3",
   "language": "python",
   "name": "python3"
  },
  "language_info": {
   "codemirror_mode": {
    "name": "ipython",
    "version": 3
   },
   "file_extension": ".py",
   "mimetype": "text/x-python",
   "name": "python",
   "nbconvert_exporter": "python",
   "pygments_lexer": "ipython3",
   "version": "3.6.8"
  }
 },
 "nbformat": 4,
 "nbformat_minor": 2
}
