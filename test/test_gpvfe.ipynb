{
 "cells": [
  {
   "cell_type": "code",
   "execution_count": 1,
   "metadata": {},
   "outputs": [],
   "source": [
    "import pickle\n",
    "import copy\n",
    "import torch\n",
    "import time\n",
    "import numpy as np\n",
    "np.set_printoptions(precision = 4)\n",
    "\n",
    "\n",
    "\n",
    "from datasets.dataset import _load_collection_real,_load_collection_syn,_load_collection_bbq_data\n",
    "from models_utility.construct_models import _initialize_SMkernel_hyp,_initialize_SMkernel_hyp_v2,_make_gpmodel\n",
    "from utility.eval_metric import _evaluate_metric,_write_summary\n",
    "import matplotlib.pyplot as plt\n",
    "import random\n",
    "from kernels.RBF_kernel import RBF\n",
    "from kernels.SM_kernel import SM\n",
    "\n",
    "\n",
    "\n",
    "from datasets.dataset import _load_collection_real,_load_collection_syn,_load_collection_bbq_data,_load_collection_ssdkl_data\n",
    "from models_utility.construct_models import _initialize_SMkernel_hyp,_initialize_SMkernel_hyp_v2,_make_gpmodel\n",
    "from utility.eval_metric import _evaluate_metric,_write_summary\n",
    "import matplotlib.pyplot as plt\n",
    "\n",
    "\n",
    "\n"
   ]
  },
  {
   "cell_type": "code",
   "execution_count": null,
   "metadata": {},
   "outputs": [],
   "source": [
    "import seaborn as sns\n",
    "sns.set()\n",
    "sns.set_style('white')\n",
    "#sns.set_style('whitegrid')\n",
    "import matplotlib\n",
    "plt.rcParams[\"axes.grid\"] = True\n",
    "plt.rc('font', family='serif')\n",
    "#plt.rc('font', weight='bold')\n",
    "\n",
    "current_palette = sns.color_palette(sns.hls_palette(10+1, l=.4, s=1.0))\n",
    "sns.palplot(current_palette)\n",
    "current_palette = np.asarray(current_palette)"
   ]
  },
  {
   "cell_type": "code",
   "execution_count": null,
   "metadata": {},
   "outputs": [],
   "source": [
    "import os.path\n",
    "from os import path\n",
    "save_figure_path  = './jupyters/result_figure/exp1-1/'\n",
    "os.makedirs(save_figure_path) if path.isdir(save_figure_path) is False else 1"
   ]
  },
  {
   "cell_type": "code",
   "execution_count": null,
   "metadata": {},
   "outputs": [],
   "source": [
    "random_seed = 1000\n",
    "device = True\n",
    "\n",
    "\n",
    "\n",
    "#['co2','airline'],['Concrete','Noise'],['rubber','pores','tread']\n",
    "#filename = 'co2'\n",
    "\n",
    "\n",
    "#filename = 'Concrete' # more possible\n",
    "#filename = 'Noise'\n",
    "\n",
    "#filename = 'rubber'\n",
    "#filename = 'tread'\n",
    "#filename = 'pores' #does not work\n",
    "\n",
    "#x_train, x_test, y_train, y_test = _load_collection_bbq_data(filename , cuda_option=device)\n",
    "\n",
    "\n",
    "\n",
    "#filename = 'skillcraft'\n",
    "filename = 'parkinsons'\n",
    "#filename = 'elevators'\n",
    "#filename = 'protein'\n",
    "#filename = 'blog'\n",
    "#filename = 'ctslice'\n",
    "#filename = 'buzz'  #50000\n",
    "#filename = 'electric'  #50000\n",
    "x_train, x_test, y_train, y_test = _load_collection_ssdkl_data(filename,random_seed=random_seed, numtotal = 200000, cuda_option = device)\n",
    "\n",
    "\n",
    "\n",
    "\n",
    "setting_dict = {}\n",
    "setting_dict['random_seed'] = random_seed\n",
    "setting_dict['input_dim'] = x_train.shape[1]\n",
    "\n",
    "setting_dict['init_sample_num'] = 100\n",
    "setting_dict['Num_Q'] = 5\n",
    "setting_dict['lr_hyp'] = 1e-2         #0.001,0.0005  error -- >0.0001 equal_reg\n",
    "setting_dict['noise_err'] = .1*y_train.cpu().data.numpy().std()\n",
    "#setting_dict['noise_err'] = .1\n",
    "\n",
    "#setting_dict['sampling_option'] = 'weight'\n",
    "#setting_dict['sampling_option'] = 'uniform'\n",
    "setting_dict['kl_option'] = False  #['True','False']\n",
    "setting_dict['num_sample_pt'] = 5\n",
    "setting_dict['num_batch'] = 1\n",
    "setting_dict['tau0'] = 1000\n",
    "setting_dict['iter'] = 2000        #[5000,8000]\n",
    "setting_dict['num_rep'] = 2\n",
    "setting_dict['weight_rate'] = 1e-2  # [1e-2,1e-3,1e-5]\n",
    "\n",
    "setting_dict['optimizer'] = 'Adam'   #['SGD','Adam']\n",
    "\n",
    "\n"
   ]
  },
  {
   "cell_type": "code",
   "execution_count": null,
   "metadata": {},
   "outputs": [],
   "source": [
    "setting_dict = _initialize_SMkernel_hyp_v2(x_train, y_train, setting_dict, random_seed )\n",
    "\n",
    "gpr_vfe = _make_gpmodel(model_name='gpvfe', setting_dict =setting_dict, device=device)\n",
    "gpr_vfe._set_data(batch_x=x_train, batch_y=y_train)\n",
    "gpr_vfe._set_inducing_pt(2*setting_dict['Num_Q']*setting_dict['num_sample_pt'] )"
   ]
  },
  {
   "cell_type": "code",
   "execution_count": null,
   "metadata": {
    "scrolled": false
   },
   "outputs": [],
   "source": [
    "   for i in range(setting_dict['iter'] + 1):\n",
    "\n",
    "        gpr_vfe.train()\n",
    "        ith_tic = time.time()\n",
    "        ith_loss = gpr_vfe.compute_loss(batch_x=x_train, batch_y=y_train, kl_option=setting_dict['kl_option'])\n",
    "        ith_loss.backward()\n",
    "\n",
    "\n",
    "\n",
    "#         ################################################################\n",
    "#         if ith_model_name not in ['equal_reg_nat','weight_reg_nat'] and setting_dict['optimizer'] is not 'Adam':\n",
    "#             # torch_utils.clip_grad_norm_([ith_model.mu,ith_model.std ],\n",
    "#             #                             max_grad_norm)\n",
    "\n",
    "#             torch_utils.clip_grad_norm_([ith_model.mu],\n",
    "#                                         max_grad_norm,norm_type='inf')\n",
    "\n",
    "#             torch_utils.clip_grad_norm_([ith_model.std],\n",
    "#                                         max_grad_norm, norm_type='inf')\n",
    "\n",
    "\n",
    "#         ################################################################\n",
    "        gpr_vfe.optimizer.step()\n",
    "        gpr_vfe.optimizer.zero_grad()\n",
    "        torch.cuda.empty_cache()\n",
    "\n",
    "        ith_toc = time.time()\n",
    "\n",
    "        with torch.no_grad():\n",
    "            #pred_train_mu, pred_train_var = ith_model._predict(inputs_new=x_train)\n",
    "            pred_test_mu, pred_test_var = gpr_vfe._predict(inputs_new=x_test)\n",
    "            ith_rmse,ith_mnll = _evaluate_metric(pred_test_mu, pred_test_var, y_test)\n",
    "            \n",
    "        if i%100 ==0:\n",
    "            print('%d th loss: %.3f, mse : %.3f,  mnll : %.3f' % (i,ith_loss.cpu().data.numpy(), ith_rmse, ith_mnll))\n",
    "\n"
   ]
  },
  {
   "cell_type": "code",
   "execution_count": null,
   "metadata": {},
   "outputs": [],
   "source": []
  },
  {
   "cell_type": "code",
   "execution_count": null,
   "metadata": {},
   "outputs": [],
   "source": []
  },
  {
   "cell_type": "code",
   "execution_count": null,
   "metadata": {},
   "outputs": [],
   "source": []
  },
  {
   "cell_type": "code",
   "execution_count": null,
   "metadata": {},
   "outputs": [],
   "source": []
  },
  {
   "cell_type": "code",
   "execution_count": null,
   "metadata": {},
   "outputs": [],
   "source": []
  }
 ],
 "metadata": {
  "kernelspec": {
   "display_name": "Python 3",
   "language": "python",
   "name": "python3"
  },
  "language_info": {
   "codemirror_mode": {
    "name": "ipython",
    "version": 3
   },
   "file_extension": ".py",
   "mimetype": "text/x-python",
   "name": "python",
   "nbconvert_exporter": "python",
   "pygments_lexer": "ipython3",
   "version": "3.6.8"
  }
 },
 "nbformat": 4,
 "nbformat_minor": 2
}
