{
 "cells": [
  {
   "cell_type": "code",
   "execution_count": 1,
   "metadata": {},
   "outputs": [],
   "source": [
    "import torch\n",
    "import numpy as np\n",
    "device = torch.device(\"cpu\")"
   ]
  },
  {
   "cell_type": "code",
   "execution_count": 2,
   "metadata": {},
   "outputs": [],
   "source": [
    "import matplotlib.pyplot as plt\n",
    "import seaborn as sns\n",
    "sns.set()\n",
    "sns.set_style('white')\n",
    "import matplotlib\n",
    "plt.rcParams[\"axes.grid\"] = True\n",
    "plt.rc('font', family='serif')\n",
    "\n",
    "current_palette = sns.color_palette(sns.hls_palette(10+1, l=.4, s=1.0))\n",
    "sns.palplot(current_palette)\n",
    "current_palette = np.asarray(current_palette)"
   ]
  },
  {
   "cell_type": "code",
   "execution_count": 3,
   "metadata": {},
   "outputs": [],
   "source": [
    "import time\n",
    "import torch\n",
    "import random\n",
    "import numpy as np\n",
    "import math\n",
    "from itertools import combinations\n",
    "from scipy.special import softmax\n",
    "import numpy as np\n",
    "\n",
    "pi2 = 2 * math.pi\n",
    "upper_bound_weight = 1e5\n",
    "lower_bound_weight = 1e-8\n",
    "\n",
    "def K_SM_Components(mu_list, std_list, x1, x2=None):\n",
    "    if torch.is_tensor(x1):\n",
    "        x1 = x1.cpu().data.numpy()\n",
    "    if x2 == None:\n",
    "        x2 = x1\n",
    "\n",
    "    out = []\n",
    "    for ith_mu, ith_std in zip(mu_list, std_list):\n",
    "        x1_, x2_ = pi2 * (x1 * ith_std), pi2 * (x2 * ith_std)\n",
    "        # sq_dist = -0.5*( -2 * x1_.matmul(x2_.t()) + (x1_.pow(2).sum(-1, keepdim=True) + x2_.pow(2).sum(-1, keepdim=True).t()))\n",
    "        sq_dist = -0.5 * (-2 * np.matmul(x1_, x2_.T) + ((x1_ ** 2).sum(-1, keepdims=True) + (x2_ ** 2).sum(-1, keepdims=True).T))\n",
    "        exp_term = np.exp(sq_dist)\n",
    "        x11_, x22_ = pi2 * np.matmul(x1, ith_mu.reshape(-1, 1)), pi2 * np.matmul(x2, ith_mu.reshape(-1, 1))\n",
    "        cos_term = np.cos(x11_ - x22_.T)\n",
    "        out.append(exp_term * cos_term)\n",
    "\n",
    "    return np.asarray(out)\n",
    "\n",
    "    \n",
    "    \n",
    "    \n",
    "class spt_manager_train(object):\n",
    "    def __init__(self, spt, num_Q, rate=0.01, num_min_pt=2):            \n",
    "        self.num_min_pt = int(spt / 2) + 1 if spt<=3 else int(spt / 2)            \n",
    "        #self.num_min_pt = num_min_pt    \n",
    "        \n",
    "        self.spt = spt\n",
    "        self.num_Q = num_Q\n",
    "        self.total_spt = self.spt * self.num_Q        \n",
    "        \n",
    "        assert spt > self.num_min_pt\n",
    "        self.rate = rate\n",
    "        self.tau_set = None\n",
    "        self.num_offdiag = None\n",
    "        self.index_offdiag = None\n",
    "        self.num_sample = None\n",
    "        self.temperature = 1    \n",
    "        self.call_num = 0\n",
    "        return\n",
    "\n",
    "    def _set_num_spectralpt(self, spt , num_min_pt=2 , intrain = True):\n",
    "        if intrain : \n",
    "            self.num_min_pt = int(spt / 2) + 1 if spt<=3 else int(spt / 2)    \n",
    "        else:\n",
    "            self.num_min_pt = num_min_pt\n",
    "        \n",
    "        self.spt = spt\n",
    "        assert spt > self.num_min_pt\n",
    "        self.total_spt = self.spt * self.num_Q\n",
    "        return\n",
    "\n",
    "    def _set_collection_tauset(self, X):\n",
    "        pass\n",
    "        return\n",
    "\n",
    "    def _get_subtauset(self, X):\n",
    "        if torch.is_tensor(X):\n",
    "            X = X.cpu().data.numpy()\n",
    "        tau_set = (X[None, :, :] - X[:, None, :])\n",
    "        num_train = X.shape[0]\n",
    "        index_offdiag = np.triu_indices(num_train, k=1)\n",
    "        return tau_set[index_offdiag]\n",
    "\n",
    "    def k_sm(self, ith_weight, ith_mu, ith_std, tau_collection):\n",
    "        exp_term_in = ((tau_collection * ith_std) ** 2).sum(axis=1, keepdims=True)\n",
    "        exp_term = np.exp(-2 * (math.pi ** 2) * exp_term_in)\n",
    "        cos_term_in = (tau_collection * ith_mu).sum(axis=1, keepdims=True)\n",
    "        cos_term = np.cos(2 * math.pi * cos_term_in)\n",
    "        return ith_weight * (exp_term * cos_term)\n",
    "\n",
    "    def g_tau(self, mu, std, inputs):\n",
    "        out = 1 + self.k_sm(ith_weight=1.0, ith_mu=mu, ith_std=std, tau_collection=2 * inputs)\n",
    "        out += -2 * ((self.k_sm(ith_weight=1.0, ith_mu=mu, ith_std=std, tau_collection=inputs)) ** 2)\n",
    "        return out\n",
    "\n",
    "    def sum_g_tau(self, mu, std, inputs):\n",
    "        return (self.g_tau(mu, std, inputs)).sum(axis=0)\n",
    "\n",
    "    def h_taupair(self, mu, std, i_taus, j_taus, ij_taus_sum, ij_taus_minus):\n",
    "        out = -self.k_sm(ith_weight=1.0, ith_mu=mu, ith_std=std, tau_collection=i_taus) * self.k_sm(ith_weight=1.0,\n",
    "                                                                                                    ith_mu=mu,\n",
    "                                                                                                    ith_std=std,\n",
    "                                                                                                    tau_collection=j_taus)\n",
    "        out += 0.5 * self.k_sm(ith_weight=1.0, ith_mu=mu, ith_std=std, tau_collection=ij_taus_sum)\n",
    "        out += 0.5 * self.k_sm(ith_weight=1.0, ith_mu=mu, ith_std=std, tau_collection=ij_taus_minus)\n",
    "        return out\n",
    "\n",
    "    def sum_h_taupair(self, mu, std, i_taus, j_taus, ij_taus_sum, ij_taus_minus):\n",
    "        return (self.h_taupair(mu, std, i_taus, j_taus, ij_taus_sum, ij_taus_minus)).sum(axis=0)\n",
    "\n",
    "    \n",
    "    \n",
    "    def float_to_integer(self, ratio):\n",
    "        num_minimum_total_pt = self.num_Q * self.num_min_pt\n",
    "        num_allocated_total_pt = self.total_spt - num_minimum_total_pt\n",
    "        assigned_spt_float = num_allocated_total_pt * ratio\n",
    "        assigned_spt = np.asarray([int(np.round(ipt)) for ipt in assigned_spt_float])\n",
    "\n",
    "        idx_plus = np.where((assigned_spt - assigned_spt_float) > 0.0)[0]\n",
    "        idx_mius = np.where((assigned_spt - assigned_spt_float) < 0.0)[0]\n",
    "        idx_equa = np.where((assigned_spt - assigned_spt_float) == 0.0)[0]\n",
    "\n",
    "        # equal to M= Q x spt\n",
    "        if assigned_spt.sum() > num_allocated_total_pt:\n",
    "            delta_num = assigned_spt.sum() - num_allocated_total_pt\n",
    "            selected_idx = np.asarray(list(idx_plus) + list(idx_equa) + list(idx_mius))\n",
    "            assigned_spt[selected_idx[:delta_num]] += -1\n",
    "        elif assigned_spt.sum() < num_allocated_total_pt:\n",
    "            delta_num = num_allocated_total_pt - assigned_spt.sum()\n",
    "            selected_idx = np.asarray(list(idx_mius) + list(idx_equa) + list(idx_plus))\n",
    "            assigned_spt[selected_idx[:delta_num]] += 1\n",
    "        else:\n",
    "            pass\n",
    "\n",
    "        return assigned_spt\n",
    "\n",
    "    def get_batch_taus(self,X,num_data,num_sample,random_sample = True):\n",
    "        if random_sample:        \n",
    "            idx = np.random.choice(num_data, num_sample, replace=False)       \n",
    "        else:\n",
    "            idx = np.arange(self.call_num*num_sample,(self.call_num+1)*num_sample) % num_data        \n",
    "        return self._get_subtauset(X[idx]),idx\n",
    "\n",
    "    \n",
    "    def calc_sptratio_given_X(self, weight_param, mu_param, std_param, X , intrain = True):\n",
    "        if torch.is_tensor(weight_param):\n",
    "            weight_param = weight_param.cpu().data.numpy()\n",
    "        if torch.is_tensor(mu_param):\n",
    "            mu_param = mu_param.cpu().data.numpy()\n",
    "        if torch.is_tensor(std_param):\n",
    "            std_param = std_param.cpu().data.numpy()\n",
    "\n",
    "        num_data, dim = X.shape\n",
    "        num_sample = int(num_data * self.rate)\n",
    "        sub_sampled_tau,idx = self.get_batch_taus(X, num_data,num_sample,random_sample = False)        \n",
    "        \n",
    "        nominator_list = []\n",
    "        for ith_weight, ith_mu, ith_std in zip(weight_param, mu_param, std_param):\n",
    "            variance_sum = self.sum_g_tau(ith_mu, ith_std, inputs=sub_sampled_tau)\n",
    "            covariance_sum = 0.0\n",
    "            nominator_list.append(ith_weight * np.sqrt(variance_sum + covariance_sum))\n",
    "\n",
    "        ratio = np.clip(nominator_list, a_min=lower_bound_weight, a_max=upper_bound_weight)\n",
    "        ratio = softmax(np.log(ratio / self.temperature)).squeeze()\n",
    "\n",
    "        # float to integers\n",
    "        assigned_spt = self.float_to_integer(ratio)\n",
    "        assigned_spt += self.num_min_pt\n",
    "        \n",
    "        if intrain == True:\n",
    "            self.call_num +=1                    \n",
    "        else:\n",
    "            pass\n",
    "        \n",
    "        assert (assigned_spt.sum() == self.total_spt)\n",
    "        return assigned_spt, ratio\n",
    "\n",
    "    \n",
    "   \n",
    "\n"
   ]
  },
  {
   "cell_type": "code",
   "execution_count": 5,
   "metadata": {},
   "outputs": [],
   "source": [
    "X = np.arange(0,10,0.05).reshape(-1,1)"
   ]
  },
  {
   "cell_type": "code",
   "execution_count": 29,
   "metadata": {},
   "outputs": [],
   "source": [
    "num_Q = 5\n",
    "spt = 4\n",
    "total_spt = num_Q*spt\n",
    "\n",
    "weight_list = 100*np.random.randn(num_Q ,1)\n",
    "mu_list = 50*np.random.randn(num_Q ,1)\n",
    "std_list = np.random.randn(num_Q ,1)\n"
   ]
  },
  {
   "cell_type": "code",
   "execution_count": 30,
   "metadata": {},
   "outputs": [],
   "source": [
    "spt_manager = spt_manager_train(spt = spt ,num_Q = num_Q ,rate= 1.0)"
   ]
  },
  {
   "cell_type": "code",
   "execution_count": 31,
   "metadata": {},
   "outputs": [],
   "source": [
    "assigned_spt, ratio = spt_manager.calc_sptratio_given_X(weight_list,mu_list,std_list,X)"
   ]
  },
  {
   "cell_type": "code",
   "execution_count": 35,
   "metadata": {},
   "outputs": [
    {
     "data": {
      "text/plain": [
       "(array([9, 2, 5, 2, 2]), 20)"
      ]
     },
     "execution_count": 35,
     "metadata": {},
     "output_type": "execute_result"
    }
   ],
   "source": [
    "assigned_spt, assigned_spt.sum()"
   ]
  },
  {
   "cell_type": "code",
   "execution_count": 36,
   "metadata": {},
   "outputs": [
    {
     "data": {
      "text/plain": [
       "(array([6.56172768e-01, 4.47599124e-13, 3.43827232e-01, 4.47599124e-13,\n",
       "        4.47599124e-13]),)"
      ]
     },
     "execution_count": 36,
     "metadata": {},
     "output_type": "execute_result"
    }
   ],
   "source": [
    "ratio, "
   ]
  },
  {
   "cell_type": "code",
   "execution_count": null,
   "metadata": {},
   "outputs": [],
   "source": []
  },
  {
   "cell_type": "code",
   "execution_count": null,
   "metadata": {},
   "outputs": [],
   "source": []
  }
 ],
 "metadata": {
  "kernelspec": {
   "display_name": "Python 3",
   "language": "python",
   "name": "python3"
  },
  "language_info": {
   "codemirror_mode": {
    "name": "ipython",
    "version": 3
   },
   "file_extension": ".py",
   "mimetype": "text/x-python",
   "name": "python",
   "nbconvert_exporter": "python",
   "pygments_lexer": "ipython3",
   "version": "3.6.8"
  }
 },
 "nbformat": 4,
 "nbformat_minor": 2
}
